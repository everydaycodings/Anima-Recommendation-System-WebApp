{
  "cells": [
    {
      "cell_type": "code",
      "execution_count": 1,
      "metadata": {
        "id": "Pfy7wRp75soK"
      },
      "outputs": [],
      "source": [
        "import pandas as pd\n",
        "import numpy as np\n",
        "import pickle"
      ]
    },
    {
      "cell_type": "code",
      "execution_count": 2,
      "metadata": {
        "colab": {
          "base_uri": "https://localhost:8080/"
        },
        "id": "TNpT0ki36vI5",
        "outputId": "630f4dae-5647-4d76-f6d7-7fa115e03fbf"
      },
      "outputs": [
        {
          "name": "stderr",
          "output_type": "stream",
          "text": [
            "/home/ninja/.local/lib/python3.8/site-packages/sklearn/base.py:310: UserWarning: Trying to unpickle estimator NearestNeighbors from version 0.23.2 when using version 0.24.0. This might lead to breaking code or invalid results. Use at your own risk.\n",
            "  warnings.warn(\n"
          ]
        }
      ],
      "source": [
        "model = pickle.load(open(\"model/model.pkl\", 'rb'))\n",
        "piviot_table = pickle.load(open(\"model/piviot_table.pkl\", 'rb'))\n"
      ]
    },
    {
      "cell_type": "code",
      "execution_count": 5,
      "metadata": {
        "id": "sH-mrrZd8SIS"
      },
      "outputs": [],
      "source": [
        "def predict():\n",
        "    random_anime = np.random.choice(piviot_table.shape[0])\n",
        "    #random_anime = piviot_table.loc[\"Kindan no Byoutou The Animation\"]\n",
        "    #anime_id = random_anime.shape[0]\n",
        "\n",
        "    query = piviot_table.iloc[random_anime, :].values.reshape(1, -1)\n",
        "    distance, suggestions = model.kneighbors(query, n_neighbors=6)\n",
        "\n",
        "    \n",
        "    for i in range(0, len(distance.flatten())):\n",
        "        if i == 0:\n",
        "            print('Recommendations for {0}:\\n'.format(piviot_table.index[random_anime]))\n",
        "        else:\n",
        "            print('{0}: {1}, with distance of {2}:'.format(i, piviot_table.index[suggestions.flatten()[i]], distance.flatten()[i]))"
      ]
    },
    {
      "cell_type": "code",
      "execution_count": 8,
      "metadata": {
        "colab": {
          "base_uri": "https://localhost:8080/"
        },
        "id": "jLDbBLpkAOcP",
        "outputId": "44f0728c-5c3a-429c-def2-d09307bb52e3"
      },
      "outputs": [
        {
          "name": "stdout",
          "output_type": "stream",
          "text": [
            "Recommendations for Catman Series II:\n",
            "\n",
            "1: Catman Series III, with distance of 0.08982066049606463:\n",
            "2: Catman, with distance of 0.3042807228858512:\n",
            "3: Ankoku Cat, with distance of 0.7093652231148525:\n",
            "4: Ginga no Uo Ursa Minor Blue, with distance of 0.7177334393638554:\n",
            "5: Enkinhou no Hako: Hakase no Sagashimono, with distance of 0.735484534661976:\n"
          ]
        }
      ],
      "source": [
        "predict()"
      ]
    }
  ],
  "metadata": {
    "colab": {
      "collapsed_sections": [],
      "name": "test_prediction_by_models.ipynb",
      "provenance": []
    },
    "kernelspec": {
      "display_name": "Python 3",
      "name": "python3"
    },
    "language_info": {
      "codemirror_mode": {
        "name": "ipython",
        "version": 3
      },
      "file_extension": ".py",
      "mimetype": "text/x-python",
      "name": "python",
      "nbconvert_exporter": "python",
      "pygments_lexer": "ipython3",
      "version": "3.8.12"
    }
  },
  "nbformat": 4,
  "nbformat_minor": 0
}
