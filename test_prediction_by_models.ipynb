{
  "cells": [
    {
      "cell_type": "code",
      "execution_count": 1,
      "metadata": {
        "id": "Pfy7wRp75soK"
      },
      "outputs": [],
      "source": [
        "import pandas as pd\n",
        "import numpy as np\n",
        "import pickle"
      ]
    },
    {
      "cell_type": "code",
      "execution_count": 2,
      "metadata": {
        "colab": {
          "base_uri": "https://localhost:8080/"
        },
        "id": "TNpT0ki36vI5",
        "outputId": "630f4dae-5647-4d76-f6d7-7fa115e03fbf"
      },
      "outputs": [
        {
          "data": {
            "text/plain": [
              "NearestNeighbors(algorithm='brute', metric='cosine')"
            ]
          },
          "execution_count": 2,
          "metadata": {},
          "output_type": "execute_result"
        }
      ],
      "source": [
        "new_model = pickle.load(open(\"model/test.sav\", 'rb'))\n",
        "table = pickle.load(open(\"model/table.sav\", 'rb'))\n",
        "anime = pickle.load(open(\"model/anima.sav\", 'rb'))\n",
        "new_model"
      ]
    },
    {
      "cell_type": "code",
      "execution_count": 3,
      "metadata": {
        "id": "sH-mrrZd8SIS"
      },
      "outputs": [],
      "source": [
        "def predict():\n",
        "    random_anime = np.random.choice(table.shape[0]) \n",
        "\n",
        "    query = table.iloc[random_anime, :].values.reshape(1, -1)\n",
        "    distance, suggestions = new_model.kneighbors(query, n_neighbors=6)\n",
        "\n",
        "\n",
        "    for i in range(0, len(distance.flatten())):\n",
        "        if i == 0:\n",
        "            print('Recommendations for {0}:\\n'.format(anime.iloc[random_anime][\"Name\"]))\n",
        "        else:\n",
        "            print('{0}: {1}, with distance of {2}:'.format(i, anime.iloc[suggestions[0][i]][\"Name\"], distance.flatten()[i]))"
      ]
    },
    {
      "cell_type": "code",
      "execution_count": 9,
      "metadata": {
        "colab": {
          "base_uri": "https://localhost:8080/"
        },
        "id": "jLDbBLpkAOcP",
        "outputId": "44f0728c-5c3a-429c-def2-d09307bb52e3"
      },
      "outputs": [
        {
          "name": "stdout",
          "output_type": "stream",
          "text": [
            "Recommendations for Goku Sayonara Zetsubou Sensei:\n",
            "\n",
            "1: Kizumonogatari I: Tekketsu-hen, with distance of 0.4292176616229155:\n",
            "2: Koi Koi 7 Specials, with distance of 0.4406560838772353:\n",
            "3: Elf wo Karu Mono-tachi, with distance of 0.44487595453909257:\n",
            "4: Oz no Mahoutsukai, with distance of 0.4466791801056248:\n",
            "5: Yuuwaku Countdown, with distance of 0.45548413359669637:\n"
          ]
        }
      ],
      "source": [
        "predict()"
      ]
    }
  ],
  "metadata": {
    "colab": {
      "collapsed_sections": [],
      "name": "test_prediction_by_models.ipynb",
      "provenance": []
    },
    "kernelspec": {
      "display_name": "Python 3",
      "name": "python3"
    },
    "language_info": {
      "codemirror_mode": {
        "name": "ipython",
        "version": 3
      },
      "file_extension": ".py",
      "mimetype": "text/x-python",
      "name": "python",
      "nbconvert_exporter": "python",
      "pygments_lexer": "ipython3",
      "version": "3.8.12"
    }
  },
  "nbformat": 4,
  "nbformat_minor": 0
}
